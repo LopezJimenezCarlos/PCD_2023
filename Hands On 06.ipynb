{
 "cells": [
  {
   "cell_type": "markdown",
   "id": "e78cf8a8-942b-4098-9c30-774b8489694f",
   "metadata": {},
   "source": [
    "\n",
    "\n",
    " \n",
    "\n",
    "<h1 style = \"text-align:center; font-size: 30px\">PROGRAMACIÓN CONCURRENTE Y DISTRIBUIDA</h1>\n",
    "\n",
    "<a href =\"https://github.com/LopezJimenezCarlos\">\n",
    "\n",
    "<img src=\"https://avatars.githubusercontent.com/u/114013044?v=4\" style=\"float:left;vertical-align:centre\" width=\"110\" height=\"110\" title = \"Carlos López Jiménez 22166883\">\n",
    "\n",
    "<a href =\"https://github.com/LopezJimenezCarlos?tab=repositories\">\n",
    "\n",
    "<img src=\"https://media-exp1.licdn.com/dms/image/C4D0BAQEu_Aa76fcmPw/company-logo_200_200/0/1630998679429?e=2159024400&v=beta&t=2feC9GG7RWCWizTqsK5HzDWB1TL2DOQuAVwnMf6FFvk\" title = \"M41\" alt=\"UE\" width=\"110\" height=\"110\" style=\"float:right;vertical-align:centre\">"
   ]
  },
  {
   "cell_type": "code",
   "execution_count": 1,
   "id": "bf773b1f-468b-4860-83d7-7dee1f7ad0d8",
   "metadata": {},
   "outputs": [],
   "source": [
    "import time,urllib.request , multiprocessing as mp, concurrent.futures, math, random"
   ]
  },
  {
   "cell_type": "code",
   "execution_count": 2,
   "id": "ba216fae-2fb2-4071-96dd-7e5bafbf1175",
   "metadata": {},
   "outputs": [],
   "source": [
    "def sec_mult(A, B):\n",
    "    C = [[0] * n_col_B for i in range(n_fil_A)]\n",
    "    for i in range(n_fil_A):\n",
    "        for j in range(n_col_B):\n",
    "            for k in range(n_col_A):\n",
    "                C[i][j] += A[i][k] * B[k][j]\n",
    "    return C"
   ]
  },
  {
   "cell_type": "code",
   "execution_count": 3,
   "id": "9cd0d47d-c647-4bcd-9b5e-c6c98e024e16",
   "metadata": {},
   "outputs": [],
   "source": [
    "def par_mult(A, B):\n",
    "    n_cores = mp.cpu_count()\n",
    "    size_col = math.ceil(n_col_B/n_cores)\n",
    "    size_fil = math.ceil(n_fil_A/n_cores)\n",
    "    MC = mp.RawArray('i', n_fil_A * n_col_B)\n",
    "    cores = []\n",
    "    for core in range(n_cores):\n",
    "        i_MC = min(core * size_fil, n_fil_A)\n",
    "        f_MC = min((core + 1) * size_fil, n_fil_A)\n",
    "        cores.append(mp.Process(target=par_core, args=(A, B, MC, i_MC, f_MC)))\n",
    "    for core in cores:\n",
    "        core.start()\n",
    "    for core in cores:\n",
    "        core.join()\n",
    "    C_2D = [[0] * n_col_B for i in range(n_fil_A)]\n",
    "    for i in range(n_fil_A):\n",
    "        for j in range(n_col_B):\n",
    "            C_2D[i][j] = MC[i*n_col_B + j]\n",
    "    return C_2D"
   ]
  },
  {
   "cell_type": "code",
   "execution_count": 4,
   "id": "8d125c6e-60e5-4d2f-b0d0-270503065d6e",
   "metadata": {},
   "outputs": [],
   "source": [
    "def par_core(A, B, MC, i_MC, f_MC):\n",
    "    for i in range(i_MC, f_MC):\n",
    "        for j in range(len(B[0])):\n",
    "            for k in range(len(A[0])):\n",
    "                MC[i*len(B[0]) + j] += A[i][k] * B[k][j]"
   ]
  },
  {
   "cell_type": "code",
   "execution_count": 5,
   "id": "4214bf13-947f-4002-a560-715c2be0a4f5",
   "metadata": {},
   "outputs": [
    {
     "name": "stdout",
     "output_type": "stream",
     "text": [
      "\n",
      "\n",
      "Matriz  A y B se han multiplicado con exito en SECUENCIAL ha tardado  0.4127919673919678  y en PARALELO  0.8774023056030273\n"
     ]
    }
   ],
   "source": [
    "if __name__ == '__main__':\n",
    "    A = [[random.randint(0,215) for i in range(6)] for j in range (2345)]\n",
    "    B = [[random.randint(0,215) for i in range(200)] for j in range(6)]\n",
    "    n_fil_A = len(A)\n",
    "    n_col_A = len(A[0])\n",
    "    n_fil_B = len(B)\n",
    "    n_col_B = len (B[0])\n",
    "    if n_col_A != n_fil_B: raise Exception ('Dimensiones no validas')\n",
    "    inicioS = time.time()\n",
    "    sec_mult(A, B)\n",
    "    finS = time.time()\n",
    "    inicioP = time.time()\n",
    "    par_mult(A, B)\n",
    "    finP = time.time()\n",
    "    print('\\n\\nMatriz  A y B se han multiplicado con exito en SECUENCIAL ha tardado ', finS-inicioS, ' y en PARALELO ', finP-inicioP)\n",
    "    "
   ]
  },
  {
   "cell_type": "code",
   "execution_count": null,
   "id": "ccc3c099-2e3d-4a66-a1ca-a41282e90534",
   "metadata": {},
   "outputs": [],
   "source": []
  }
 ],
 "metadata": {
  "kernelspec": {
   "display_name": "Python 3 (ipykernel)",
   "language": "python",
   "name": "python3"
  },
  "language_info": {
   "codemirror_mode": {
    "name": "ipython",
    "version": 3
   },
   "file_extension": ".py",
   "mimetype": "text/x-python",
   "name": "python",
   "nbconvert_exporter": "python",
   "pygments_lexer": "ipython3",
   "version": "3.11.0"
  }
 },
 "nbformat": 4,
 "nbformat_minor": 5
}
