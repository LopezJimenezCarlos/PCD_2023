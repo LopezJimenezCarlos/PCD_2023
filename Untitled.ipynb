{
 "cells": [
  {
   "cell_type": "markdown",
   "id": "1153f266-18ed-4771-a904-6b0d8af8cbbf",
   "metadata": {},
   "source": []
  },
  {
   "cell_type": "markdown",
   "id": "5f3a8b9c-b803-41ff-96eb-974a5d52290f",
   "metadata": {},
   "source": [
    "<!-- PROFILE LINK -->\n",
    "\n",
    " \n",
    "\n",
    "<h1 style = \"text-align:center; font-size: 30px\">PROGRAMACIÓN CONCURRENTE Y DISTRIBUIDA</h1>\n",
    "\n",
    "<a href =\"https://github.com/LopezJimenezCarlos\">\n",
    "\n",
    "<img src=\"https://avatars.githubusercontent.com/u/114013044?s=400&u=e7516f897ce24a9d87c29acba175c2e1562d6406&v=4\" style=\"float:left;vertical-align:centre\" width=\"120\" height=\"120\" title = \"Carlos López Jiménez 22166883\">\n",
    "\n",
    "<a href =\"https://github.com/LopezJimenezCarlos?tab=repositories\">\n",
    "\n",
    "<img src=\"https://media-exp1.licdn.com/dms/image/C4D0BAQEu_Aa76fcmPw/company-logo_200_200/0/1630998679429?e=2159024400&v=beta&t=2feC9GG7RWCWizTqsK5HzDWB1TL2DOQuAVwnMf6FFvk\" title = \"M41\" alt=\"UE\" width=\"110\" height=\"110\" style=\"float:right;vertical-align:centre\">"
   ]
  },
  {
   "cell_type": "code",
   "execution_count": null,
   "id": "35113b9d-7d64-43ab-a6b1-4d4e48d5aaf2",
   "metadata": {},
   "outputs": [],
   "source": []
  }
 ],
 "metadata": {
  "kernelspec": {
   "display_name": "Python 3 (ipykernel)",
   "language": "python",
   "name": "python3"
  },
  "language_info": {
   "codemirror_mode": {
    "name": "ipython",
    "version": 3
   },
   "file_extension": ".py",
   "mimetype": "text/x-python",
   "name": "python",
   "nbconvert_exporter": "python",
   "pygments_lexer": "ipython3",
   "version": "3.10.7"
  }
 },
 "nbformat": 4,
 "nbformat_minor": 5
}
