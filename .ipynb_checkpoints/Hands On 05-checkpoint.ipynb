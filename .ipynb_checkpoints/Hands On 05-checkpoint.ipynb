{
 "cells": [
  {
   "cell_type": "markdown",
   "id": "6c92dc66-2717-4d3a-98fb-8e2d0a793068",
   "metadata": {},
   "source": [
    "\n",
    "\n",
    " \n",
    "\n",
    "<h1 style = \"text-align:center; font-size: 30px\">PROGRAMACIÓN CONCURRENTE Y DISTRIBUIDA</h1>\n",
    "\n",
    "<a href =\"https://github.com/LopezJimenezCarlos\">\n",
    "\n",
    "<img src=\"https://avatars.githubusercontent.com/u/114013044?v=4\" style=\"float:left;vertical-align:centre\" width=\"110\" height=\"110\" title = \"Carlos López Jiménez 22166883\">\n",
    "\n",
    "<a href =\"https://github.com/LopezJimenezCarlos?tab=repositories\">\n",
    "\n",
    "<img src=\"https://media-exp1.licdn.com/dms/image/C4D0BAQEu_Aa76fcmPw/company-logo_200_200/0/1630998679429?e=2159024400&v=beta&t=2feC9GG7RWCWizTqsK5HzDWB1TL2DOQuAVwnMf6FFvk\" title = \"M41\" alt=\"UE\" width=\"110\" height=\"110\" style=\"float:right;vertical-align:centre\">"
   ]
  },
  {
   "cell_type": "code",
   "execution_count": 32,
   "id": "dbfe405f-dfb4-41b5-b027-901d821741ba",
   "metadata": {},
   "outputs": [],
   "source": [
    "import time,urllib.request , multiprocessing as mp, concurrent.futures"
   ]
  },
  {
   "cell_type": "code",
   "execution_count": 33,
   "id": "35ec513a-6760-4fd5-9a40-a12a908e6ca4",
   "metadata": {},
   "outputs": [],
   "source": [
    "def seq_download_images(img_numbers):\n",
    "    total_bytes = 0\n",
    "    for num in img_numbers:\n",
    "        total_bytes += _download_image(num)\n",
    "    return total_bytes"
   ]
  },
  {
   "cell_type": "code",
   "execution_count": 34,
   "id": "bb57d9f2-0099-4d78-b447-c742a4609ce7",
   "metadata": {},
   "outputs": [],
   "source": [
    "def _download_image(image_number):\n",
    "    print(image_number)\n",
    "    image_url = 'http://699340.youcanlearnit.net/image{:03d}.jpg'.format(image_number)\n",
    "    try:\n",
    "        with urllib.request.urlopen(image_url, timeout=60) as conn:\n",
    "            return len(conn.read())\n",
    "    except urllib.error.HTTPError:\n",
    "        print('Oh god', image_number)\n",
    "    except Exception as e:\n",
    "        print(e)"
   ]
  },
  {
   "cell_type": "code",
   "execution_count": 35,
   "id": "335b5e99-aa23-4da8-a754-99da346ecb1f",
   "metadata": {},
   "outputs": [],
   "source": [
    "def par_download_images(image_numbers):\n",
    "    total_bytes = 0\n",
    "    with concurrent.futures.ThreadPoolExecutor() as pool:\n",
    "        futures = [pool.submit(_download_image, num) for num in image_numbers]\n",
    "        for f in concurrent.futures.as_completed(futures):\n",
    "            total_bytes += f.result()\n",
    "    return total_bytes"
   ]
  },
  {
   "cell_type": "code",
   "execution_count": 37,
   "id": "9d799830-3068-42ef-9e35-601f73a510f1",
   "metadata": {},
   "outputs": [
    {
     "name": "stdout",
     "output_type": "stream",
     "text": [
      "1\n",
      "2\n",
      "3\n",
      "0\n",
      "1\n",
      "2\n",
      "3\n",
      "1\n",
      "1\n",
      "2\n",
      "3\n",
      "2\n",
      "1\n",
      "2\n",
      "3\n",
      "12\n",
      "\n",
      "3\n",
      "12\n",
      "\n",
      "3\n",
      "12\n",
      "\n",
      "3\n",
      "12\n",
      "\n",
      "3\n",
      "Average Sequential Time: 2123.80 ms\n",
      "Average Parallel Time: 795.90 ms\n",
      "Speedup: 2.67\n",
      "Efficiency: 33.36%\n"
     ]
    }
   ],
   "source": [
    "if __name__ == '__main__':\n",
    "    NUM_EVAL_RUNS = 3\n",
    "    IMAGE_NUMBERS = list(range(1,4))\n",
    "    sequential_result = seq_download_images(IMAGE_NUMBERS)\n",
    "    sequential_time = 0\n",
    "    for i in range(NUM_EVAL_RUNS):\n",
    "        print(i)\n",
    "        start = time.perf_counter()\n",
    "        seq_download_images(IMAGE_NUMBERS)\n",
    "        sequential_time += time.perf_counter() - start\n",
    "    sequential_time /= NUM_EVAL_RUNS\n",
    "    parallel_result = par_download_images(IMAGE_NUMBERS)\n",
    "    parallel_time = 0\n",
    "    for i in range(NUM_EVAL_RUNS):\n",
    "        start = time.perf_counter()\n",
    "        par_download_images(IMAGE_NUMBERS)\n",
    "        parallel_time += time.perf_counter() - start \n",
    "    parallel_time /= NUM_EVAL_RUNS\n",
    "    \n",
    "    if sequential_result != parallel_result:\n",
    "        raise Exception('sequential_result and parallel_result do not match.')\n",
    "    print('Average Sequential Time: {:.2f} ms'.format(sequential_time*1000))\n",
    "    print('Average Parallel Time: {:.2f} ms'.format(parallel_time*1000))\n",
    "    print('Speedup: {:.2f}'.format(sequential_time/parallel_time))\n",
    "    print('Efficiency: {:.2f}%'.format(100*(sequential_time/parallel_time)/mp.cpu_count()))"
   ]
  },
  {
   "cell_type": "code",
   "execution_count": null,
   "id": "1d8bd4ce-07b7-472e-a034-e8d65ff713ef",
   "metadata": {},
   "outputs": [],
   "source": []
  },
  {
   "cell_type": "code",
   "execution_count": null,
   "id": "964bcffe-906f-43e6-8ddd-ca01e3916909",
   "metadata": {},
   "outputs": [],
   "source": []
  }
 ],
 "metadata": {
  "kernelspec": {
   "display_name": "Python 3 (ipykernel)",
   "language": "python",
   "name": "python3"
  },
  "language_info": {
   "codemirror_mode": {
    "name": "ipython",
    "version": 3
   },
   "file_extension": ".py",
   "mimetype": "text/x-python",
   "name": "python",
   "nbconvert_exporter": "python",
   "pygments_lexer": "ipython3",
   "version": "3.10.7"
  }
 },
 "nbformat": 4,
 "nbformat_minor": 5
}
