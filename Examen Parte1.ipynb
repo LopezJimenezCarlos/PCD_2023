{
 "cells": [
  {
   "cell_type": "markdown",
   "id": "d698cad6-db6b-4cf6-bb25-98eefd8d2023",
   "metadata": {},
   "source": [
    "## Examen Parte 1"
   ]
  },
  {
   "cell_type": "markdown",
   "id": "195984a0-8b0c-40e3-afcb-19ad14b29c93",
   "metadata": {
    "tags": []
   },
   "source": [
    "\n"
   ]
  },
  {
   "cell_type": "code",
   "execution_count": 20,
   "id": "36f0cbd6-7001-4da8-b150-eb30235db4eb",
   "metadata": {},
   "outputs": [],
   "source": [
    "import threading, os, platform, requests, json"
   ]
  },
  {
   "cell_type": "code",
   "execution_count": 21,
   "id": "372f2c04-ca33-41a7-99b2-a01809f6f802",
   "metadata": {},
   "outputs": [],
   "source": [
    "numero_de_veces_hasta_tirar_ip = 100"
   ]
  },
  {
   "cell_type": "code",
   "execution_count": 22,
   "id": "2b1f0e2d-8912-4d57-b802-13d300fd00bc",
   "metadata": {},
   "outputs": [],
   "source": [
    "url_=\"https://github.com/JR-Klein\""
   ]
  },
  {
   "cell_type": "code",
   "execution_count": 23,
   "id": "f7d78c85-3661-4643-b9db-ddd7e65ae568",
   "metadata": {},
   "outputs": [],
   "source": [
    "def tirarip():\n",
    "    print(requests.get(url_))\n",
    "    threading.current_thread()\n",
    "    "
   ]
  },
  {
   "cell_type": "code",
   "execution_count": null,
   "id": "0ccf5723-6b8e-4d79-93e9-89f169148a5b",
   "metadata": {},
   "outputs": [],
   "source": [
    "for i in range (numero_de_veces_hasta_tirar_ip):\n",
    "    threading.Thread(target=tirarip()).start()"
   ]
  },
  {
   "cell_type": "markdown",
   "id": "53f61e3e-add1-4a84-84d3-0c2e58d9ff1e",
   "metadata": {},
   "source": []
  },
  {
   "cell_type": "code",
   "execution_count": null,
   "id": "b9d60585-30c9-420f-9d0e-ae9f9e1b44a1",
   "metadata": {},
   "outputs": [],
   "source": []
  }
 ],
 "metadata": {
  "kernelspec": {
   "display_name": "Python 3 (ipykernel)",
   "language": "python",
   "name": "python3"
  },
  "language_info": {
   "codemirror_mode": {
    "name": "ipython",
    "version": 3
   },
   "file_extension": ".py",
   "mimetype": "text/x-python",
   "name": "python",
   "nbconvert_exporter": "python",
   "pygments_lexer": "ipython3",
   "version": "3.10.7"
  }
 },
 "nbformat": 4,
 "nbformat_minor": 5
}
